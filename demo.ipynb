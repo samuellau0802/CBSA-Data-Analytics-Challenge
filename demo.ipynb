{
 "cells": [
  {
   "cell_type": "code",
   "execution_count": 1,
   "metadata": {},
   "outputs": [],
   "source": [
    "import pandas as pd\n",
    "df = pd.read_pickle(\"sample_data.pkl\")"
   ]
  },
  {
   "cell_type": "code",
   "execution_count": 2,
   "metadata": {},
   "outputs": [
    {
     "data": {
      "text/html": [
       "<div>\n",
       "<style scoped>\n",
       "    .dataframe tbody tr th:only-of-type {\n",
       "        vertical-align: middle;\n",
       "    }\n",
       "\n",
       "    .dataframe tbody tr th {\n",
       "        vertical-align: top;\n",
       "    }\n",
       "\n",
       "    .dataframe thead th {\n",
       "        text-align: right;\n",
       "    }\n",
       "</style>\n",
       "<table border=\"1\" class=\"dataframe\">\n",
       "  <thead>\n",
       "    <tr style=\"text-align: right;\">\n",
       "      <th></th>\n",
       "      <th>text</th>\n",
       "      <th>label</th>\n",
       "      <th>tokenized_words</th>\n",
       "    </tr>\n",
       "  </thead>\n",
       "  <tbody>\n",
       "    <tr>\n",
       "      <th>7851</th>\n",
       "      <td>【內地調查：疫情對中國住宿和餐飲行業影響最大】        中新社報道，上海國家會計學院會...</td>\n",
       "      <td>0</td>\n",
       "      <td>【 內地 調查 ： 疫情 對 中國 住宿 和 餐 飲行業 影響 最大 】          ...</td>\n",
       "    </tr>\n",
       "    <tr>\n",
       "      <th>168447</th>\n",
       "      <td>【香港青年協會未來技能博覽】「疫情時代與STEM教育前瞻」分享會 疫情持續，令人反思未來的教...</td>\n",
       "      <td>0</td>\n",
       "      <td>【 香港 青年 協會 未來 技能 博覽 】 「 疫情 時代 與 STEM 教育 前瞻 」 分...</td>\n",
       "    </tr>\n",
       "  </tbody>\n",
       "</table>\n",
       "</div>"
      ],
      "text/plain": [
       "                                                     text  label  \\\n",
       "7851    【內地調查：疫情對中國住宿和餐飲行業影響最大】        中新社報道，上海國家會計學院會...      0   \n",
       "168447  【香港青年協會未來技能博覽】「疫情時代與STEM教育前瞻」分享會 疫情持續，令人反思未來的教...      0   \n",
       "\n",
       "                                          tokenized_words  \n",
       "7851    【 內地 調查 ： 疫情 對 中國 住宿 和 餐 飲行業 影響 最大 】          ...  \n",
       "168447  【 香港 青年 協會 未來 技能 博覽 】 「 疫情 時代 與 STEM 教育 前瞻 」 分...  "
      ]
     },
     "execution_count": 2,
     "metadata": {},
     "output_type": "execute_result"
    }
   ],
   "source": [
    "df.head(2)"
   ]
  },
  {
   "cell_type": "code",
   "execution_count": 3,
   "metadata": {},
   "outputs": [],
   "source": [
    "df = df[df['label'] > 0]"
   ]
  },
  {
   "cell_type": "code",
   "execution_count": 4,
   "metadata": {},
   "outputs": [],
   "source": [
    "df.rename(columns={'tokenized_words': 'tokenized_text'},\n",
    "          inplace=True, errors='raise')"
   ]
  },
  {
   "cell_type": "code",
   "execution_count": 5,
   "metadata": {},
   "outputs": [],
   "source": [
    "from sklearn.feature_extraction.text import TfidfVectorizer\n",
    "vectorizer = TfidfVectorizer()\n",
    "X = vectorizer.fit_transform(list(df['tokenized_text']))"
   ]
  },
  {
   "cell_type": "code",
   "execution_count": 6,
   "metadata": {},
   "outputs": [
    {
     "data": {
      "text/plain": [
       "<110767x611393 sparse matrix of type '<class 'numpy.float64'>'\n",
       "\twith 14659224 stored elements in Compressed Sparse Row format>"
      ]
     },
     "execution_count": 6,
     "metadata": {},
     "output_type": "execute_result"
    }
   ],
   "source": [
    "X"
   ]
  },
  {
   "cell_type": "code",
   "execution_count": 10,
   "metadata": {},
   "outputs": [],
   "source": [
    "from scipy import sparse\n",
    "\n",
    "sparse.save_npz(\"X.npz\", X)\n"
   ]
  },
  {
   "cell_type": "code",
   "execution_count": 13,
   "metadata": {},
   "outputs": [],
   "source": [
    "df['label'].to_csv(\"y.csv\", index=False)"
   ]
  },
  {
   "cell_type": "code",
   "execution_count": null,
   "metadata": {},
   "outputs": [],
   "source": [
    "your_matrix_back = sparse.load_npz(\"X.npz\")"
   ]
  },
  {
   "cell_type": "code",
   "execution_count": 19,
   "metadata": {},
   "outputs": [],
   "source": [
    "'''\n",
    "NaiveBayes.py\n",
    "'''\n",
    "from sklearn.model_selection import train_test_split, GridSearchCV\n",
    "from sklearn.preprocessing import MinMaxScaler\n",
    "from sklearn.naive_bayes import MultinomialNB, ComplementNB\n",
    "from sklearn.datasets import make_blobs, make_classification\n",
    "from sklearn.metrics import accuracy_score, f1_score, roc_auc_score\n",
    "import numpy as np\n",
    "import matplotlib.pyplot as plt\n",
    "\n",
    "\n",
    "X_train, X_test, y_train, y_test = train_test_split(X, df['label'], test_size=0.25)\n"
   ]
  },
  {
   "cell_type": "code",
   "execution_count": null,
   "metadata": {},
   "outputs": [],
   "source": [
    "classifier = ComplementNB()\n",
    "classifier.fit(X_train, y_train)\n",
    "predict_test = classifier.predict(X_test)\n",
    "#accuracy_test = f1_score(y_test,predict_test)\n",
    "\n"
   ]
  },
  {
   "cell_type": "code",
   "execution_count": 26,
   "metadata": {},
   "outputs": [
    {
     "name": "stdout",
     "output_type": "stream",
     "text": [
      "              precision    recall  f1-score   support\n",
      "\n",
      "           1       0.68      0.31      0.42      1685\n",
      "           2       0.73      0.60      0.66      1988\n",
      "           3       0.74      0.87      0.80      3889\n",
      "           4       0.80      0.73      0.76      2962\n",
      "           5       0.81      0.61      0.70       655\n",
      "           6       0.72      0.87      0.79      3367\n",
      "           7       0.79      0.86      0.82      2566\n",
      "           8       0.91      0.18      0.30       288\n",
      "           9       0.78      0.47      0.59      1104\n",
      "          10       0.59      0.84      0.69      4416\n",
      "          11       0.83      0.37      0.51      1070\n",
      "          12       0.89      0.25      0.39       978\n",
      "          13       0.68      0.86      0.76      1829\n",
      "          14       0.93      0.26      0.40       248\n",
      "          15       0.77      0.54      0.63       647\n",
      "\n",
      "    accuracy                           0.71     27692\n",
      "   macro avg       0.78      0.57      0.61     27692\n",
      "weighted avg       0.73      0.71      0.69     27692\n",
      "\n"
     ]
    }
   ],
   "source": [
    "from sklearn.metrics import classification_report\n",
    "print(classification_report(y_test, predict_test))"
   ]
  },
  {
   "cell_type": "code",
   "execution_count": 27,
   "metadata": {},
   "outputs": [
    {
     "data": {
      "text/plain": [
       "<AxesSubplot:>"
      ]
     },
     "execution_count": 27,
     "metadata": {},
     "output_type": "execute_result"
    },
    {
     "data": {
      "image/png": "[encoded data removed]",
      "text/plain": [
       "<Figure size 432x288 with 1 Axes>"
      ]
     },
     "metadata": {
      "needs_background": "light"
     },
     "output_type": "display_data"
    }
   ],
   "source": [
    "df['label'].value_counts().plot(kind='barh')"
   ]
  },
  {
   "cell_type": "code",
   "execution_count": 18,
   "metadata": {},
   "outputs": [
    {
     "data": {
      "text/plain": [
       "{1, 2, 3, 4, 5, 6, 7, 8, 9, 10, 11, 12, 13, 14, 15}"
      ]
     },
     "execution_count": 18,
     "metadata": {},
     "output_type": "execute_result"
    }
   ],
   "source": [
    "set(df['label'])"
   ]
  },
  {
   "cell_type": "code",
   "execution_count": 8,
   "metadata": {},
   "outputs": [
    {
     "name": "stderr",
     "output_type": "stream",
     "text": [
      "C:\\Users\\samue\\anaconda3\\envs\\CBSA\\lib\\site-packages\\xgboost\\sklearn.py:1224: UserWarning: The use of label encoder in XGBClassifier is deprecated and will be removed in a future release. To remove this warning, do the following: 1) Pass option use_label_encoder=False when constructing XGBClassifier object; and 2) Encode your labels (y) as integers starting with 0, i.e. 0, 1, 2, ..., [num_class - 1].\n",
      "  warnings.warn(label_encoder_deprecation_msg, UserWarning)\n"
     ]
    },
    {
     "name": "stdout",
     "output_type": "stream",
     "text": [
      "[14:46:44] WARNING: C:/Users/Administrator/workspace/xgboost-win64_release_1.5.1/src/learner.cc:1115: Starting in XGBoost 1.3.0, the default evaluation metric used with the objective 'multi:softprob' was changed from 'merror' to 'mlogloss'. Explicitly set eval_metric if you'd like to restore the old behavior.\n"
     ]
    }
   ],
   "source": [
    "from XGModels import *\n",
    "\n",
    "model, preds, y_test = XG_Classifier(X, df['label'])"
   ]
  },
  {
   "cell_type": "code",
   "execution_count": 9,
   "metadata": {},
   "outputs": [
    {
     "name": "stdout",
     "output_type": "stream",
     "text": [
      "              precision    recall  f1-score   support\n",
      "\n",
      "           1       0.65      0.60      0.62      1686\n",
      "           2       0.79      0.81      0.80      1986\n",
      "           3       0.85      0.92      0.88      3963\n",
      "           4       0.88      0.86      0.87      2900\n",
      "           5       0.86      0.74      0.79       670\n",
      "           6       0.88      0.87      0.87      3309\n",
      "           7       0.92      0.95      0.93      2595\n",
      "           8       0.86      0.73      0.79       275\n",
      "           9       0.79      0.73      0.76      1124\n",
      "          10       0.80      0.82      0.81      4363\n",
      "          11       0.86      0.79      0.82      1078\n",
      "          12       0.83      0.76      0.79       975\n",
      "          13       0.87      0.89      0.88      1864\n",
      "          14       0.80      0.69      0.74       259\n",
      "          15       0.88      0.84      0.86       645\n",
      "\n",
      "    accuracy                           0.84     27692\n",
      "   macro avg       0.83      0.80      0.82     27692\n",
      "weighted avg       0.84      0.84      0.84     27692\n",
      "\n"
     ]
    }
   ],
   "source": [
    "from sklearn.metrics import classification_report\n",
    "print(classification_report(y_test, preds))"
   ]
  },
  {
   "cell_type": "code",
   "execution_count": 1,
   "metadata": {},
   "outputs": [],
   "source": [
    "import pandas as pd\n",
    "df = pd.read_pickle(\"sample_data.pkl\")\n",
    "df = df[df['label'] > 0]"
   ]
  },
  {
   "cell_type": "code",
   "execution_count": 8,
   "metadata": {},
   "outputs": [
    {
     "data": {
      "text/plain": [
       "count    110767.000000\n",
       "mean        639.770970\n",
       "std        1002.428455\n",
       "min           0.000000\n",
       "25%         216.000000\n",
       "50%         358.000000\n",
       "75%         752.000000\n",
       "max       25786.000000\n",
       "dtype: float64"
      ]
     },
     "execution_count": 8,
     "metadata": {},
     "output_type": "execute_result"
    }
   ],
   "source": [
    "pd.Series([len(i) for i in df.text]).describe()"
   ]
  },
  {
   "cell_type": "code",
   "execution_count": null,
   "metadata": {},
   "outputs": [],
   "source": []
  }
 ],
 "metadata": {
  "interpreter": {
   "hash": "429eaa20eb89031f90b5471057c6d0da4fa07055a4a0bea2a60f1417be95d314"
  },
  "kernelspec": {
   "display_name": "Python 3.8.13 ('CBSA')",
   "language": "python",
   "name": "python3"
  },
  "language_info": {
   "codemirror_mode": {
    "name": "ipython",
    "version": 3
   },
   "file_extension": ".py",
   "mimetype": "text/x-python",
   "name": "python",
   "nbconvert_exporter": "python",
   "pygments_lexer": "ipython3",
   "version": "3.8.13"
  },
  "orig_nbformat": 4
 },
 "nbformat": 4,
 "nbformat_minor": 2
}
