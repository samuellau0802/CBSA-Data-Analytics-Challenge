{
 "cells": [
  {
   "cell_type": "code",
   "execution_count": 8,
   "metadata": {},
   "outputs": [],
   "source": [
    "import pandas as pd\n",
    "df = pd.read_pickle(\"sample_data.pkl\")"
   ]
  },
  {
   "cell_type": "code",
   "execution_count": 9,
   "metadata": {},
   "outputs": [
    {
     "data": {
      "text/html": [
       "<div>\n",
       "<style scoped>\n",
       "    .dataframe tbody tr th:only-of-type {\n",
       "        vertical-align: middle;\n",
       "    }\n",
       "\n",
       "    .dataframe tbody tr th {\n",
       "        vertical-align: top;\n",
       "    }\n",
       "\n",
       "    .dataframe thead th {\n",
       "        text-align: right;\n",
       "    }\n",
       "</style>\n",
       "<table border=\"1\" class=\"dataframe\">\n",
       "  <thead>\n",
       "    <tr style=\"text-align: right;\">\n",
       "      <th></th>\n",
       "      <th>text</th>\n",
       "      <th>label</th>\n",
       "      <th>tokenized_words</th>\n",
       "    </tr>\n",
       "  </thead>\n",
       "  <tbody>\n",
       "    <tr>\n",
       "      <th>7851</th>\n",
       "      <td>【內地調查：疫情對中國住宿和餐飲行業影響最大】        中新社報道，上海國家會計學院會...</td>\n",
       "      <td>0</td>\n",
       "      <td>【 內地 調查 ： 疫情 對 中國 住宿 和 餐 飲行業 影響 最大 】          ...</td>\n",
       "    </tr>\n",
       "    <tr>\n",
       "      <th>168447</th>\n",
       "      <td>【香港青年協會未來技能博覽】「疫情時代與STEM教育前瞻」分享會 疫情持續，令人反思未來的教...</td>\n",
       "      <td>0</td>\n",
       "      <td>【 香港 青年 協會 未來 技能 博覽 】 「 疫情 時代 與 STEM 教育 前瞻 」 分...</td>\n",
       "    </tr>\n",
       "  </tbody>\n",
       "</table>\n",
       "</div>"
      ],
      "text/plain": [
       "                                                     text  label  \\\n",
       "7851    【內地調查：疫情對中國住宿和餐飲行業影響最大】        中新社報道，上海國家會計學院會...      0   \n",
       "168447  【香港青年協會未來技能博覽】「疫情時代與STEM教育前瞻」分享會 疫情持續，令人反思未來的教...      0   \n",
       "\n",
       "                                          tokenized_words  \n",
       "7851    【 內地 調查 ： 疫情 對 中國 住宿 和 餐 飲行業 影響 最大 】          ...  \n",
       "168447  【 香港 青年 協會 未來 技能 博覽 】 「 疫情 時代 與 STEM 教育 前瞻 」 分...  "
      ]
     },
     "execution_count": 9,
     "metadata": {},
     "output_type": "execute_result"
    }
   ],
   "source": [
    "df.head(2)"
   ]
  },
  {
   "cell_type": "code",
   "execution_count": 10,
   "metadata": {},
   "outputs": [],
   "source": [
    "df = df[df['label'] > 0]"
   ]
  },
  {
   "cell_type": "code",
   "execution_count": 11,
   "metadata": {},
   "outputs": [],
   "source": [
    "df.rename(columns={'tokenized_words': 'tokenized_text'},\n",
    "          inplace=True, errors='raise')"
   ]
  },
  {
   "cell_type": "code",
   "execution_count": 12,
   "metadata": {},
   "outputs": [],
   "source": [
    "from sklearn.feature_extraction.text import TfidfVectorizer\n",
    "vectorizer = TfidfVectorizer()\n",
    "X = vectorizer.fit_transform(list(df['tokenized_text']))"
   ]
  },
  {
   "cell_type": "code",
   "execution_count": 13,
   "metadata": {},
   "outputs": [
    {
     "data": {
      "text/plain": [
       "<110767x611393 sparse matrix of type '<class 'numpy.float64'>'\n",
       "\twith 14659224 stored elements in Compressed Sparse Row format>"
      ]
     },
     "execution_count": 13,
     "metadata": {},
     "output_type": "execute_result"
    }
   ],
   "source": [
    "X"
   ]
  },
  {
   "cell_type": "code",
   "execution_count": 25,
   "metadata": {},
   "outputs": [],
   "source": [
    "'''\n",
    "NaiveBayes.py\n",
    "'''\n",
    "from sklearn.model_selection import train_test_split, GridSearchCV\n",
    "from sklearn.preprocessing import MinMaxScaler\n",
    "from sklearn.naive_bayes import MultinomialNB, ComplementNB\n",
    "from sklearn.datasets import make_blobs, make_classification\n",
    "from sklearn.metrics import accuracy_score, f1_score, roc_auc_score\n",
    "import numpy as np\n",
    "import matplotlib.pyplot as plt\n",
    "\n",
    "classifier = ComplementNB()\n",
    "X_train, X_test, y_train, y_test = train_test_split(X, df['label'], test_size=0.25)\n",
    "\n",
    "classifier.fit(X_train, y_train)\n",
    "\n",
    "predict_test = classifier.predict(X_test)\n",
    "#accuracy_test = f1_score(y_test,predict_test)\n",
    "\n"
   ]
  },
  {
   "cell_type": "code",
   "execution_count": 26,
   "metadata": {},
   "outputs": [
    {
     "name": "stdout",
     "output_type": "stream",
     "text": [
      "              precision    recall  f1-score   support\n",
      "\n",
      "           1       0.68      0.31      0.42      1685\n",
      "           2       0.73      0.60      0.66      1988\n",
      "           3       0.74      0.87      0.80      3889\n",
      "           4       0.80      0.73      0.76      2962\n",
      "           5       0.81      0.61      0.70       655\n",
      "           6       0.72      0.87      0.79      3367\n",
      "           7       0.79      0.86      0.82      2566\n",
      "           8       0.91      0.18      0.30       288\n",
      "           9       0.78      0.47      0.59      1104\n",
      "          10       0.59      0.84      0.69      4416\n",
      "          11       0.83      0.37      0.51      1070\n",
      "          12       0.89      0.25      0.39       978\n",
      "          13       0.68      0.86      0.76      1829\n",
      "          14       0.93      0.26      0.40       248\n",
      "          15       0.77      0.54      0.63       647\n",
      "\n",
      "    accuracy                           0.71     27692\n",
      "   macro avg       0.78      0.57      0.61     27692\n",
      "weighted avg       0.73      0.71      0.69     27692\n",
      "\n"
     ]
    }
   ],
   "source": [
    "from sklearn.metrics import classification_report\n",
    "print(classification_report(y_test, predict_test))"
   ]
  },
  {
   "cell_type": "code",
   "execution_count": 27,
   "metadata": {},
   "outputs": [
    {
     "data": {
      "text/plain": [
       "<AxesSubplot:>"
      ]
     },
     "execution_count": 27,
     "metadata": {},
     "output_type": "execute_result"
    },
    {
     "data": {
      "image/png": "[encoded data removed]",
      "text/plain": [
       "<Figure size 432x288 with 1 Axes>"
      ]
     },
     "metadata": {
      "needs_background": "light"
     },
     "output_type": "display_data"
    }
   ],
   "source": [
    "df['label'].value_counts().plot(kind='barh')"
   ]
  },
  {
   "cell_type": "code",
   "execution_count": 18,
   "metadata": {},
   "outputs": [
    {
     "data": {
      "text/plain": [
       "{1, 2, 3, 4, 5, 6, 7, 8, 9, 10, 11, 12, 13, 14, 15}"
      ]
     },
     "execution_count": 18,
     "metadata": {},
     "output_type": "execute_result"
    }
   ],
   "source": [
    "set(df['label'])"
   ]
  },
  {
   "cell_type": "code",
   "execution_count": 15,
   "metadata": {},
   "outputs": [
    {
     "name": "stderr",
     "output_type": "stream",
     "text": [
      "C:\\Users\\samue\\anaconda3\\envs\\CBSA\\lib\\site-packages\\xgboost\\sklearn.py:1224: UserWarning: The use of label encoder in XGBClassifier is deprecated and will be removed in a future release. To remove this warning, do the following: 1) Pass option use_label_encoder=False when constructing XGBClassifier object; and 2) Encode your labels (y) as integers starting with 0, i.e. 0, 1, 2, ..., [num_class - 1].\n",
      "  warnings.warn(label_encoder_deprecation_msg, UserWarning)\n"
     ]
    },
    {
     "name": "stdout",
     "output_type": "stream",
     "text": [
      "[23:16:34] WARNING: C:/Users/Administrator/workspace/xgboost-win64_release_1.5.1/src/learner.cc:1115: Starting in XGBoost 1.3.0, the default evaluation metric used with the objective 'multi:softprob' was changed from 'merror' to 'mlogloss'. Explicitly set eval_metric if you'd like to restore the old behavior.\n"
     ]
    },
    {
     "ename": "ValueError",
     "evalue": "Target is multiclass but average='binary'. Please choose another average setting, one of [None, 'micro', 'macro', 'weighted'].",
     "output_type": "error",
     "traceback": [
      "\u001b[1;31m---------------------------------------------------------------------------\u001b[0m",
      "\u001b[1;31mValueError\u001b[0m                                Traceback (most recent call last)",
      "\u001b[1;32mc:\\Users\\samue\\Desktop\\CBSA\\CBSA-Data-Analytics-Challenge\\demo.ipynb Cell 11'\u001b[0m in \u001b[0;36m<cell line: 3>\u001b[1;34m()\u001b[0m\n\u001b[0;32m      <a href='vscode-notebook-cell:/c%3A/Users/samue/Desktop/CBSA/CBSA-Data-Analytics-Challenge/demo.ipynb#ch0000010?line=0'>1</a>\u001b[0m \u001b[39mfrom\u001b[39;00m \u001b[39mXGModels\u001b[39;00m \u001b[39mimport\u001b[39;00m \u001b[39m*\u001b[39m\n\u001b[1;32m----> <a href='vscode-notebook-cell:/c%3A/Users/samue/Desktop/CBSA/CBSA-Data-Analytics-Challenge/demo.ipynb#ch0000010?line=2'>3</a>\u001b[0m model, preds \u001b[39m=\u001b[39m XG_Classifier(X, df[\u001b[39m'\u001b[39;49m\u001b[39mlabel\u001b[39;49m\u001b[39m'\u001b[39;49m])\n",
      "File \u001b[1;32mc:\\Users\\samue\\Desktop\\CBSA\\CBSA-Data-Analytics-Challenge\\XGModels.py:34\u001b[0m, in \u001b[0;36mXG_Classifier\u001b[1;34m(X, y)\u001b[0m\n\u001b[0;32m     <a href='file:///c%3A/Users/samue/Desktop/CBSA/CBSA-Data-Analytics-Challenge/XGModels.py?line=30'>31</a>\u001b[0m xgbclassify\u001b[39m.\u001b[39mfit(X_train, y_train)\n\u001b[0;32m     <a href='file:///c%3A/Users/samue/Desktop/CBSA/CBSA-Data-Analytics-Challenge/XGModels.py?line=31'>32</a>\u001b[0m preds \u001b[39m=\u001b[39m xgbclassify\u001b[39m.\u001b[39mpredict(X_test)\n\u001b[1;32m---> <a href='file:///c%3A/Users/samue/Desktop/CBSA/CBSA-Data-Analytics-Challenge/XGModels.py?line=33'>34</a>\u001b[0m score \u001b[39m=\u001b[39m f1_score(y_test, preds)\n\u001b[0;32m     <a href='file:///c%3A/Users/samue/Desktop/CBSA/CBSA-Data-Analytics-Challenge/XGModels.py?line=34'>35</a>\u001b[0m \u001b[39mreturn\u001b[39;00m xgbclassify, score\n",
      "File \u001b[1;32m~\\anaconda3\\envs\\CBSA\\lib\\site-packages\\sklearn\\metrics\\_classification.py:1123\u001b[0m, in \u001b[0;36mf1_score\u001b[1;34m(y_true, y_pred, labels, pos_label, average, sample_weight, zero_division)\u001b[0m\n\u001b[0;32m    <a href='file:///c%3A/Users/samue/anaconda3/envs/CBSA/lib/site-packages/sklearn/metrics/_classification.py?line=991'>992</a>\u001b[0m \u001b[39mdef\u001b[39;00m \u001b[39mf1_score\u001b[39m(\n\u001b[0;32m    <a href='file:///c%3A/Users/samue/anaconda3/envs/CBSA/lib/site-packages/sklearn/metrics/_classification.py?line=992'>993</a>\u001b[0m     y_true,\n\u001b[0;32m    <a href='file:///c%3A/Users/samue/anaconda3/envs/CBSA/lib/site-packages/sklearn/metrics/_classification.py?line=993'>994</a>\u001b[0m     y_pred,\n\u001b[1;32m   (...)\u001b[0m\n\u001b[0;32m   <a href='file:///c%3A/Users/samue/anaconda3/envs/CBSA/lib/site-packages/sklearn/metrics/_classification.py?line=999'>1000</a>\u001b[0m     zero_division\u001b[39m=\u001b[39m\u001b[39m\"\u001b[39m\u001b[39mwarn\u001b[39m\u001b[39m\"\u001b[39m,\n\u001b[0;32m   <a href='file:///c%3A/Users/samue/anaconda3/envs/CBSA/lib/site-packages/sklearn/metrics/_classification.py?line=1000'>1001</a>\u001b[0m ):\n\u001b[0;32m   <a href='file:///c%3A/Users/samue/anaconda3/envs/CBSA/lib/site-packages/sklearn/metrics/_classification.py?line=1001'>1002</a>\u001b[0m     \u001b[39m\"\"\"Compute the F1 score, also known as balanced F-score or F-measure.\u001b[39;00m\n\u001b[0;32m   <a href='file:///c%3A/Users/samue/anaconda3/envs/CBSA/lib/site-packages/sklearn/metrics/_classification.py?line=1002'>1003</a>\u001b[0m \n\u001b[0;32m   <a href='file:///c%3A/Users/samue/anaconda3/envs/CBSA/lib/site-packages/sklearn/metrics/_classification.py?line=1003'>1004</a>\u001b[0m \u001b[39m    The F1 score can be interpreted as a harmonic mean of the precision and\u001b[39;00m\n\u001b[1;32m   (...)\u001b[0m\n\u001b[0;32m   <a href='file:///c%3A/Users/samue/anaconda3/envs/CBSA/lib/site-packages/sklearn/metrics/_classification.py?line=1120'>1121</a>\u001b[0m \u001b[39m    modified with ``zero_division``.\u001b[39;00m\n\u001b[0;32m   <a href='file:///c%3A/Users/samue/anaconda3/envs/CBSA/lib/site-packages/sklearn/metrics/_classification.py?line=1121'>1122</a>\u001b[0m \u001b[39m    \"\"\"\u001b[39;00m\n\u001b[1;32m-> <a href='file:///c%3A/Users/samue/anaconda3/envs/CBSA/lib/site-packages/sklearn/metrics/_classification.py?line=1122'>1123</a>\u001b[0m     \u001b[39mreturn\u001b[39;00m fbeta_score(\n\u001b[0;32m   <a href='file:///c%3A/Users/samue/anaconda3/envs/CBSA/lib/site-packages/sklearn/metrics/_classification.py?line=1123'>1124</a>\u001b[0m         y_true,\n\u001b[0;32m   <a href='file:///c%3A/Users/samue/anaconda3/envs/CBSA/lib/site-packages/sklearn/metrics/_classification.py?line=1124'>1125</a>\u001b[0m         y_pred,\n\u001b[0;32m   <a href='file:///c%3A/Users/samue/anaconda3/envs/CBSA/lib/site-packages/sklearn/metrics/_classification.py?line=1125'>1126</a>\u001b[0m         beta\u001b[39m=\u001b[39;49m\u001b[39m1\u001b[39;49m,\n\u001b[0;32m   <a href='file:///c%3A/Users/samue/anaconda3/envs/CBSA/lib/site-packages/sklearn/metrics/_classification.py?line=1126'>1127</a>\u001b[0m         labels\u001b[39m=\u001b[39;49mlabels,\n\u001b[0;32m   <a href='file:///c%3A/Users/samue/anaconda3/envs/CBSA/lib/site-packages/sklearn/metrics/_classification.py?line=1127'>1128</a>\u001b[0m         pos_label\u001b[39m=\u001b[39;49mpos_label,\n\u001b[0;32m   <a href='file:///c%3A/Users/samue/anaconda3/envs/CBSA/lib/site-packages/sklearn/metrics/_classification.py?line=1128'>1129</a>\u001b[0m         average\u001b[39m=\u001b[39;49maverage,\n\u001b[0;32m   <a href='file:///c%3A/Users/samue/anaconda3/envs/CBSA/lib/site-packages/sklearn/metrics/_classification.py?line=1129'>1130</a>\u001b[0m         sample_weight\u001b[39m=\u001b[39;49msample_weight,\n\u001b[0;32m   <a href='file:///c%3A/Users/samue/anaconda3/envs/CBSA/lib/site-packages/sklearn/metrics/_classification.py?line=1130'>1131</a>\u001b[0m         zero_division\u001b[39m=\u001b[39;49mzero_division,\n\u001b[0;32m   <a href='file:///c%3A/Users/samue/anaconda3/envs/CBSA/lib/site-packages/sklearn/metrics/_classification.py?line=1131'>1132</a>\u001b[0m     )\n",
      "File \u001b[1;32m~\\anaconda3\\envs\\CBSA\\lib\\site-packages\\sklearn\\metrics\\_classification.py:1261\u001b[0m, in \u001b[0;36mfbeta_score\u001b[1;34m(y_true, y_pred, beta, labels, pos_label, average, sample_weight, zero_division)\u001b[0m\n\u001b[0;32m   <a href='file:///c%3A/Users/samue/anaconda3/envs/CBSA/lib/site-packages/sklearn/metrics/_classification.py?line=1134'>1135</a>\u001b[0m \u001b[39mdef\u001b[39;00m \u001b[39mfbeta_score\u001b[39m(\n\u001b[0;32m   <a href='file:///c%3A/Users/samue/anaconda3/envs/CBSA/lib/site-packages/sklearn/metrics/_classification.py?line=1135'>1136</a>\u001b[0m     y_true,\n\u001b[0;32m   <a href='file:///c%3A/Users/samue/anaconda3/envs/CBSA/lib/site-packages/sklearn/metrics/_classification.py?line=1136'>1137</a>\u001b[0m     y_pred,\n\u001b[1;32m   (...)\u001b[0m\n\u001b[0;32m   <a href='file:///c%3A/Users/samue/anaconda3/envs/CBSA/lib/site-packages/sklearn/metrics/_classification.py?line=1143'>1144</a>\u001b[0m     zero_division\u001b[39m=\u001b[39m\u001b[39m\"\u001b[39m\u001b[39mwarn\u001b[39m\u001b[39m\"\u001b[39m,\n\u001b[0;32m   <a href='file:///c%3A/Users/samue/anaconda3/envs/CBSA/lib/site-packages/sklearn/metrics/_classification.py?line=1144'>1145</a>\u001b[0m ):\n\u001b[0;32m   <a href='file:///c%3A/Users/samue/anaconda3/envs/CBSA/lib/site-packages/sklearn/metrics/_classification.py?line=1145'>1146</a>\u001b[0m     \u001b[39m\"\"\"Compute the F-beta score.\u001b[39;00m\n\u001b[0;32m   <a href='file:///c%3A/Users/samue/anaconda3/envs/CBSA/lib/site-packages/sklearn/metrics/_classification.py?line=1146'>1147</a>\u001b[0m \n\u001b[0;32m   <a href='file:///c%3A/Users/samue/anaconda3/envs/CBSA/lib/site-packages/sklearn/metrics/_classification.py?line=1147'>1148</a>\u001b[0m \u001b[39m    The F-beta score is the weighted harmonic mean of precision and recall,\u001b[39;00m\n\u001b[1;32m   (...)\u001b[0m\n\u001b[0;32m   <a href='file:///c%3A/Users/samue/anaconda3/envs/CBSA/lib/site-packages/sklearn/metrics/_classification.py?line=1257'>1258</a>\u001b[0m \u001b[39m    array([0.71..., 0.        , 0.        ])\u001b[39;00m\n\u001b[0;32m   <a href='file:///c%3A/Users/samue/anaconda3/envs/CBSA/lib/site-packages/sklearn/metrics/_classification.py?line=1258'>1259</a>\u001b[0m \u001b[39m    \"\"\"\u001b[39;00m\n\u001b[1;32m-> <a href='file:///c%3A/Users/samue/anaconda3/envs/CBSA/lib/site-packages/sklearn/metrics/_classification.py?line=1260'>1261</a>\u001b[0m     _, _, f, _ \u001b[39m=\u001b[39m precision_recall_fscore_support(\n\u001b[0;32m   <a href='file:///c%3A/Users/samue/anaconda3/envs/CBSA/lib/site-packages/sklearn/metrics/_classification.py?line=1261'>1262</a>\u001b[0m         y_true,\n\u001b[0;32m   <a href='file:///c%3A/Users/samue/anaconda3/envs/CBSA/lib/site-packages/sklearn/metrics/_classification.py?line=1262'>1263</a>\u001b[0m         y_pred,\n\u001b[0;32m   <a href='file:///c%3A/Users/samue/anaconda3/envs/CBSA/lib/site-packages/sklearn/metrics/_classification.py?line=1263'>1264</a>\u001b[0m         beta\u001b[39m=\u001b[39;49mbeta,\n\u001b[0;32m   <a href='file:///c%3A/Users/samue/anaconda3/envs/CBSA/lib/site-packages/sklearn/metrics/_classification.py?line=1264'>1265</a>\u001b[0m         labels\u001b[39m=\u001b[39;49mlabels,\n\u001b[0;32m   <a href='file:///c%3A/Users/samue/anaconda3/envs/CBSA/lib/site-packages/sklearn/metrics/_classification.py?line=1265'>1266</a>\u001b[0m         pos_label\u001b[39m=\u001b[39;49mpos_label,\n\u001b[0;32m   <a href='file:///c%3A/Users/samue/anaconda3/envs/CBSA/lib/site-packages/sklearn/metrics/_classification.py?line=1266'>1267</a>\u001b[0m         average\u001b[39m=\u001b[39;49maverage,\n\u001b[0;32m   <a href='file:///c%3A/Users/samue/anaconda3/envs/CBSA/lib/site-packages/sklearn/metrics/_classification.py?line=1267'>1268</a>\u001b[0m         warn_for\u001b[39m=\u001b[39;49m(\u001b[39m\"\u001b[39;49m\u001b[39mf-score\u001b[39;49m\u001b[39m\"\u001b[39;49m,),\n\u001b[0;32m   <a href='file:///c%3A/Users/samue/anaconda3/envs/CBSA/lib/site-packages/sklearn/metrics/_classification.py?line=1268'>1269</a>\u001b[0m         sample_weight\u001b[39m=\u001b[39;49msample_weight,\n\u001b[0;32m   <a href='file:///c%3A/Users/samue/anaconda3/envs/CBSA/lib/site-packages/sklearn/metrics/_classification.py?line=1269'>1270</a>\u001b[0m         zero_division\u001b[39m=\u001b[39;49mzero_division,\n\u001b[0;32m   <a href='file:///c%3A/Users/samue/anaconda3/envs/CBSA/lib/site-packages/sklearn/metrics/_classification.py?line=1270'>1271</a>\u001b[0m     )\n\u001b[0;32m   <a href='file:///c%3A/Users/samue/anaconda3/envs/CBSA/lib/site-packages/sklearn/metrics/_classification.py?line=1271'>1272</a>\u001b[0m     \u001b[39mreturn\u001b[39;00m f\n",
      "File \u001b[1;32m~\\anaconda3\\envs\\CBSA\\lib\\site-packages\\sklearn\\metrics\\_classification.py:1544\u001b[0m, in \u001b[0;36mprecision_recall_fscore_support\u001b[1;34m(y_true, y_pred, beta, labels, pos_label, average, warn_for, sample_weight, zero_division)\u001b[0m\n\u001b[0;32m   <a href='file:///c%3A/Users/samue/anaconda3/envs/CBSA/lib/site-packages/sklearn/metrics/_classification.py?line=1541'>1542</a>\u001b[0m \u001b[39mif\u001b[39;00m beta \u001b[39m<\u001b[39m \u001b[39m0\u001b[39m:\n\u001b[0;32m   <a href='file:///c%3A/Users/samue/anaconda3/envs/CBSA/lib/site-packages/sklearn/metrics/_classification.py?line=1542'>1543</a>\u001b[0m     \u001b[39mraise\u001b[39;00m \u001b[39mValueError\u001b[39;00m(\u001b[39m\"\u001b[39m\u001b[39mbeta should be >=0 in the F-beta score\u001b[39m\u001b[39m\"\u001b[39m)\n\u001b[1;32m-> <a href='file:///c%3A/Users/samue/anaconda3/envs/CBSA/lib/site-packages/sklearn/metrics/_classification.py?line=1543'>1544</a>\u001b[0m labels \u001b[39m=\u001b[39m _check_set_wise_labels(y_true, y_pred, average, labels, pos_label)\n\u001b[0;32m   <a href='file:///c%3A/Users/samue/anaconda3/envs/CBSA/lib/site-packages/sklearn/metrics/_classification.py?line=1545'>1546</a>\u001b[0m \u001b[39m# Calculate tp_sum, pred_sum, true_sum ###\u001b[39;00m\n\u001b[0;32m   <a href='file:///c%3A/Users/samue/anaconda3/envs/CBSA/lib/site-packages/sklearn/metrics/_classification.py?line=1546'>1547</a>\u001b[0m samplewise \u001b[39m=\u001b[39m average \u001b[39m==\u001b[39m \u001b[39m\"\u001b[39m\u001b[39msamples\u001b[39m\u001b[39m\"\u001b[39m\n",
      "File \u001b[1;32m~\\anaconda3\\envs\\CBSA\\lib\\site-packages\\sklearn\\metrics\\_classification.py:1365\u001b[0m, in \u001b[0;36m_check_set_wise_labels\u001b[1;34m(y_true, y_pred, average, labels, pos_label)\u001b[0m\n\u001b[0;32m   <a href='file:///c%3A/Users/samue/anaconda3/envs/CBSA/lib/site-packages/sklearn/metrics/_classification.py?line=1362'>1363</a>\u001b[0m         \u001b[39mif\u001b[39;00m y_type \u001b[39m==\u001b[39m \u001b[39m\"\u001b[39m\u001b[39mmulticlass\u001b[39m\u001b[39m\"\u001b[39m:\n\u001b[0;32m   <a href='file:///c%3A/Users/samue/anaconda3/envs/CBSA/lib/site-packages/sklearn/metrics/_classification.py?line=1363'>1364</a>\u001b[0m             average_options\u001b[39m.\u001b[39mremove(\u001b[39m\"\u001b[39m\u001b[39msamples\u001b[39m\u001b[39m\"\u001b[39m)\n\u001b[1;32m-> <a href='file:///c%3A/Users/samue/anaconda3/envs/CBSA/lib/site-packages/sklearn/metrics/_classification.py?line=1364'>1365</a>\u001b[0m         \u001b[39mraise\u001b[39;00m \u001b[39mValueError\u001b[39;00m(\n\u001b[0;32m   <a href='file:///c%3A/Users/samue/anaconda3/envs/CBSA/lib/site-packages/sklearn/metrics/_classification.py?line=1365'>1366</a>\u001b[0m             \u001b[39m\"\u001b[39m\u001b[39mTarget is \u001b[39m\u001b[39m%s\u001b[39;00m\u001b[39m but average=\u001b[39m\u001b[39m'\u001b[39m\u001b[39mbinary\u001b[39m\u001b[39m'\u001b[39m\u001b[39m. Please \u001b[39m\u001b[39m\"\u001b[39m\n\u001b[0;32m   <a href='file:///c%3A/Users/samue/anaconda3/envs/CBSA/lib/site-packages/sklearn/metrics/_classification.py?line=1366'>1367</a>\u001b[0m             \u001b[39m\"\u001b[39m\u001b[39mchoose another average setting, one of \u001b[39m\u001b[39m%r\u001b[39;00m\u001b[39m.\u001b[39m\u001b[39m\"\u001b[39m \u001b[39m%\u001b[39m (y_type, average_options)\n\u001b[0;32m   <a href='file:///c%3A/Users/samue/anaconda3/envs/CBSA/lib/site-packages/sklearn/metrics/_classification.py?line=1367'>1368</a>\u001b[0m         )\n\u001b[0;32m   <a href='file:///c%3A/Users/samue/anaconda3/envs/CBSA/lib/site-packages/sklearn/metrics/_classification.py?line=1368'>1369</a>\u001b[0m \u001b[39melif\u001b[39;00m pos_label \u001b[39mnot\u001b[39;00m \u001b[39min\u001b[39;00m (\u001b[39mNone\u001b[39;00m, \u001b[39m1\u001b[39m):\n\u001b[0;32m   <a href='file:///c%3A/Users/samue/anaconda3/envs/CBSA/lib/site-packages/sklearn/metrics/_classification.py?line=1369'>1370</a>\u001b[0m     warnings\u001b[39m.\u001b[39mwarn(\n\u001b[0;32m   <a href='file:///c%3A/Users/samue/anaconda3/envs/CBSA/lib/site-packages/sklearn/metrics/_classification.py?line=1370'>1371</a>\u001b[0m         \u001b[39m\"\u001b[39m\u001b[39mNote that pos_label (set to \u001b[39m\u001b[39m%r\u001b[39;00m\u001b[39m) is ignored when \u001b[39m\u001b[39m\"\u001b[39m\n\u001b[0;32m   <a href='file:///c%3A/Users/samue/anaconda3/envs/CBSA/lib/site-packages/sklearn/metrics/_classification.py?line=1371'>1372</a>\u001b[0m         \u001b[39m\"\u001b[39m\u001b[39maverage != \u001b[39m\u001b[39m'\u001b[39m\u001b[39mbinary\u001b[39m\u001b[39m'\u001b[39m\u001b[39m (got \u001b[39m\u001b[39m%r\u001b[39;00m\u001b[39m). You may use \u001b[39m\u001b[39m\"\u001b[39m\n\u001b[1;32m   (...)\u001b[0m\n\u001b[0;32m   <a href='file:///c%3A/Users/samue/anaconda3/envs/CBSA/lib/site-packages/sklearn/metrics/_classification.py?line=1374'>1375</a>\u001b[0m         \u001b[39mUserWarning\u001b[39;00m,\n\u001b[0;32m   <a href='file:///c%3A/Users/samue/anaconda3/envs/CBSA/lib/site-packages/sklearn/metrics/_classification.py?line=1375'>1376</a>\u001b[0m     )\n",
      "\u001b[1;31mValueError\u001b[0m: Target is multiclass but average='binary'. Please choose another average setting, one of [None, 'micro', 'macro', 'weighted']."
     ]
    }
   ],
   "source": [
    "from XGModels import *\n",
    "\n",
    "model, preds = XG_Classifier(X, df['label'])"
   ]
  },
  {
   "cell_type": "code",
   "execution_count": null,
   "metadata": {},
   "outputs": [],
   "source": []
  }
 ],
 "metadata": {
  "interpreter": {
   "hash": "429eaa20eb89031f90b5471057c6d0da4fa07055a4a0bea2a60f1417be95d314"
  },
  "kernelspec": {
   "display_name": "Python 3.8.13 ('CBSA')",
   "language": "python",
   "name": "python3"
  },
  "language_info": {
   "codemirror_mode": {
    "name": "ipython",
    "version": 3
   },
   "file_extension": ".py",
   "mimetype": "text/x-python",
   "name": "python",
   "nbconvert_exporter": "python",
   "pygments_lexer": "ipython3",
   "version": "3.8.13"
  },
  "orig_nbformat": 4
 },
 "nbformat": 4,
 "nbformat_minor": 2
}
